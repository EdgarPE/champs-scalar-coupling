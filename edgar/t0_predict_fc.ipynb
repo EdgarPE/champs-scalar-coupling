{
  "cells": [
    {
      "cell_type": "markdown",
      "metadata": {
        "pycharm": {}
      },
      "source": [
        "## Imports"
      ]
    },
    {
      "cell_type": "code",
      "execution_count": 2,
      "metadata": {
        "pycharm": {}
      },
      "outputs": [],
      "source": [
        "import numpy as np\n",
        "import pandas as pd\n",
        "import os\n",
        "\n",
        "import matplotlib.pyplot as plt\n",
        "%matplotlib inline\n",
        "from tqdm import tqdm_notebook\n",
        "from sklearn.preprocessing import StandardScaler\n",
        "from sklearn.svm import NuSVR, SVR\n",
        "from sklearn.metrics import mean_absolute_error\n",
        "pd.options.display.precision \u003d 15\n",
        "\n",
        "import lightgbm as lgb\n",
        "import xgboost as xgb\n",
        "import time\n",
        "import datetime\n",
        "from catboost import CatBoostRegressor\n",
        "from sklearn.preprocessing import LabelEncoder\n",
        "from sklearn.model_selection import StratifiedKFold, KFold, RepeatedKFold\n",
        "from sklearn import metrics\n",
        "from sklearn import linear_model\n",
        "import gc\n",
        "import seaborn as sns\n",
        "import warnings\n",
        "warnings.filterwarnings(\"ignore\")\n",
        "\n",
        "from IPython.display import HTML\n",
        "import json\n",
        "import altair as alt\n",
        "\n",
        "import networkx as nx\n",
        "import matplotlib.pyplot as plt\n",
        "%matplotlib inline\n",
        "import os\n",
        "import time\n",
        "import datetime\n",
        "import json\n",
        "import gc\n",
        "from numba import jit\n",
        "\n",
        "import numpy as np\n",
        "import pandas as pd\n",
        "\n",
        "import matplotlib.pyplot as plt\n",
        "import seaborn as sns\n",
        "from tqdm import tqdm_notebook\n",
        "\n",
        "import lightgbm as lgb\n",
        "import xgboost as xgb\n",
        "from catboost import CatBoostRegressor, CatBoostClassifier\n",
        "from sklearn import metrics\n",
        "\n",
        "from itertools import product\n",
        "\n",
        "import altair as alt\n",
        "from altair.vega import v5\n",
        "from IPython.display import HTML\n",
        "# alt.renderers.enable(\u0027notebook\u0027)"
      ]
    },
    {
      "cell_type": "markdown",
      "metadata": {
        "pycharm": {}
      },
      "source": [
        "## Functions"
      ]
    },
    {
      "cell_type": "code",
      "execution_count": 10,
      "metadata": {
        "pycharm": {}
      },
      "outputs": [],
      "source": [
        "def reduce_mem_usage(df, verbose\u003dTrue):\n",
        "    numerics \u003d [\u0027int16\u0027, \u0027int32\u0027, \u0027int64\u0027, \u0027float16\u0027, \u0027float32\u0027, \u0027float64\u0027]\n",
        "    start_mem \u003d df.memory_usage().sum() / 1024**2    \n",
        "    for col in df.columns:\n",
        "        col_type \u003d df[col].dtypes\n",
        "        if col_type in numerics:\n",
        "            c_min \u003d df[col].min()\n",
        "            c_max \u003d df[col].max()\n",
        "            if str(col_type)[:3] \u003d\u003d \u0027int\u0027:\n",
        "                if c_min \u003e np.iinfo(np.int8).min and c_max \u003c np.iinfo(np.int8).max:\n",
        "                    df[col] \u003d df[col].astype(np.int8)\n",
        "                elif c_min \u003e np.iinfo(np.int16).min and c_max \u003c np.iinfo(np.int16).max:\n",
        "                    df[col] \u003d df[col].astype(np.int16)\n",
        "                elif c_min \u003e np.iinfo(np.int32).min and c_max \u003c np.iinfo(np.int32).max:\n",
        "                    df[col] \u003d df[col].astype(np.int32)\n",
        "                elif c_min \u003e np.iinfo(np.int64).min and c_max \u003c np.iinfo(np.int64).max:\n",
        "                    df[col] \u003d df[col].astype(np.int64)  \n",
        "            else:\n",
        "                if c_min \u003e np.finfo(np.float16).min and c_max \u003c np.finfo(np.float16).max:\n",
        "                    df[col] \u003d df[col].astype(np.float16)\n",
        "                elif c_min \u003e np.finfo(np.float32).min and c_max \u003c np.finfo(np.float32).max:\n",
        "                    df[col] \u003d df[col].astype(np.float32)\n",
        "                else:\n",
        "                    df[col] \u003d df[col].astype(np.float64)    \n",
        "    end_mem \u003d df.memory_usage().sum() / 1024**2\n",
        "    if verbose: print(\u0027Mem. usage decreased to {:5.2f} Mb ({:.1f}% reduction)\u0027.format(end_mem, 100 * (start_mem - end_mem) / start_mem))\n",
        "    return df\n",
        "\n",
        "\n",
        "@jit\n",
        "def fast_auc(y_true, y_prob):\n",
        "    \"\"\"\n",
        "    fast roc_auc computation: https://www.kaggle.com/c/microsoft-malware-prediction/discussion/76013\n",
        "    \"\"\"\n",
        "    y_true \u003d np.asarray(y_true)\n",
        "    y_true \u003d y_true[np.argsort(y_prob)]\n",
        "    nfalse \u003d 0\n",
        "    auc \u003d 0\n",
        "    n \u003d len(y_true)\n",
        "    for i in range(n):\n",
        "        y_i \u003d y_true[i]\n",
        "        nfalse +\u003d (1 - y_i)\n",
        "        auc +\u003d y_i * nfalse\n",
        "    auc /\u003d (nfalse * (n - nfalse))\n",
        "    return auc\n",
        "\n",
        "\n",
        "def eval_auc(y_true, y_pred):\n",
        "    \"\"\"\n",
        "    Fast auc eval function for lgb.\n",
        "    \"\"\"\n",
        "    return \u0027auc\u0027, fast_auc(y_true, y_pred), True\n",
        "\n",
        "\n",
        "def group_mean_log_mae(y_true, y_pred, types, floor\u003d1e-9):\n",
        "    \"\"\"\n",
        "    Fast metric computation for this competition: https://www.kaggle.com/c/champs-scalar-coupling\n",
        "    Code is from this kernel: https://www.kaggle.com/uberkinder/efficient-metric\n",
        "    \"\"\"\n",
        "    maes \u003d (y_true-y_pred).abs().groupby(types).mean()\n",
        "    return np.log(maes.map(lambda x: max(x, floor))).mean()\n"
      ]
    },
    {
      "cell_type": "markdown",
      "metadata": {
        "pycharm": {}
      },
      "source": [
        "## Load data"
      ]
    },
    {
      "cell_type": "code",
      "execution_count": 26,
      "metadata": {
        "pycharm": {}
      },
      "outputs": [
        {
          "name": "stdout",
          "output_type": "stream",
          "text": [
            "Train dataset shape is now rows: 4658147 cols:5\n",
            "Test dataset shape is now rows: 2505542 cols:4\n",
            "Sub dataset shape is now rows: 2505542 cols:1\n",
            "Structures dataset shape is now rows: 2358657 cols:6\n",
            "Scalar_coupling_contributions dataset shape is now rows: 4658147 cols:8\n"
          ]
        }
      ],
      "source": "train \u003d pd.read_csv(\u0027../input/train.csv\u0027, index_col\u003d\u0027id\u0027)\ntest \u003d pd.read_csv(\u0027../input/test.csv\u0027, index_col\u003d\u0027id\u0027)\nsub \u003d pd.read_csv(\u0027../input/sample_submission.csv\u0027, index_col\u003d\u0027id\u0027)\nstructures \u003d pd.read_csv(\u0027../input/structures.csv\u0027)\ncontributions \u003d pd.read_csv(\u0027../input/scalar_coupling_contributions.csv\u0027)\n\nprint(\u0027Train dataset shape is now rows: {} cols:{}\u0027.format(train.shape[0],train.shape[1]))\nprint(\u0027Test dataset shape is now rows: {} cols:{}\u0027.format(test.shape[0],test.shape[1]))\nprint(\u0027Sub dataset shape is now rows: {} cols:{}\u0027.format(sub.shape[0],sub.shape[1]))\nprint(\u0027Structures dataset shape is now rows: {} cols:{}\u0027.format(structures.shape[0],structures.shape[1]))\nprint(\u0027Scalar coupling contributions dataset shape is now rows: {} cols:{}\u0027.format(contributions.shape[0],\n                                                                                   contributions.shape[1]))"
    },
    {
      "cell_type": "markdown",
      "metadata": {
        "pycharm": {}
      },
      "source": [
        "### Sub-sampling"
      ]
    },
    {
      "cell_type": "code",
      "execution_count": 28,
      "metadata": {
        "pycharm": {}
      },
      "outputs": [
        {
          "name": "stdout",
          "output_type": "stream",
          "text": [
            "(266597,)\n",
            "(266597,)\n"
          ]
        },
        {
          "data": {
            "text/plain": [
              "(168160,)"
            ]
          },
          "metadata": {},
          "output_type": "display_data"
        },
        {
          "ename": "IndexingError",
          "evalue": "Unalignable boolean Series provided as indexer (index of the boolean Series and of the indexed object do not match",
          "output_type": "error",
          "traceback": [
            "\u001b[0;31m---------------------------------------------------------------------------\u001b[0m",
            "\u001b[0;31mIndexingError\u001b[0m                             Traceback (most recent call last)",
            "\u001b[0;32m\u003cipython-input-28-7ef29aee8353\u003e\u001b[0m in \u001b[0;36m\u003cmodule\u003e\u001b[0;34m\u001b[0m\n\u001b[1;32m     11\u001b[0m     \u001b[0mtest\u001b[0m \u001b[0;34m\u003d\u001b[0m \u001b[0mtest\u001b[0m\u001b[0;34m[\u001b[0m\u001b[0mtest\u001b[0m\u001b[0;34m[\u001b[0m\u001b[0;34m\u0027molecule_name\u0027\u001b[0m\u001b[0;34m]\u001b[0m\u001b[0;34m.\u001b[0m\u001b[0misin\u001b[0m\u001b[0;34m(\u001b[0m\u001b[0mtest_filter\u001b[0m\u001b[0;34m)\u001b[0m\u001b[0;34m]\u001b[0m\u001b[0;34m\u001b[0m\u001b[0;34m\u001b[0m\u001b[0m\n\u001b[1;32m     12\u001b[0m     \u001b[0mdisplay\u001b[0m\u001b[0;34m(\u001b[0m\u001b[0mtest\u001b[0m\u001b[0;34m[\u001b[0m\u001b[0;34m\u0027molecule_name\u0027\u001b[0m\u001b[0;34m]\u001b[0m\u001b[0;34m.\u001b[0m\u001b[0misin\u001b[0m\u001b[0;34m(\u001b[0m\u001b[0mtest_filter\u001b[0m\u001b[0;34m)\u001b[0m\u001b[0;34m.\u001b[0m\u001b[0mshape\u001b[0m\u001b[0;34m)\u001b[0m\u001b[0;34m\u001b[0m\u001b[0;34m\u001b[0m\u001b[0m\n\u001b[0;32m---\u003e 13\u001b[0;31m     \u001b[0msub\u001b[0m \u001b[0;34m\u003d\u001b[0m \u001b[0msub\u001b[0m\u001b[0;34m[\u001b[0m\u001b[0mtest\u001b[0m\u001b[0;34m[\u001b[0m\u001b[0;34m\u0027molecule_name\u0027\u001b[0m\u001b[0;34m]\u001b[0m\u001b[0;34m.\u001b[0m\u001b[0misin\u001b[0m\u001b[0;34m(\u001b[0m\u001b[0mtest_filter\u001b[0m\u001b[0;34m)\u001b[0m\u001b[0;34m]\u001b[0m\u001b[0;34m\u001b[0m\u001b[0;34m\u001b[0m\u001b[0m\n\u001b[0m\u001b[1;32m     14\u001b[0m     \u001b[0mscalar_coupling_contributions\u001b[0m \u001b[0;34m\u003d\u001b[0m \u001b[0mscalar_coupling_contributions\u001b[0m\u001b[0;34m[\u001b[0m\u001b[0mtest\u001b[0m\u001b[0;34m[\u001b[0m\u001b[0;34m\u0027molecule_name\u0027\u001b[0m\u001b[0;34m]\u001b[0m\u001b[0;34m.\u001b[0m\u001b[0misin\u001b[0m\u001b[0;34m(\u001b[0m\u001b[0mtest_filter\u001b[0m\u001b[0;34m)\u001b[0m\u001b[0;34m]\u001b[0m\u001b[0;34m\u001b[0m\u001b[0;34m\u001b[0m\u001b[0m\n\u001b[1;32m     15\u001b[0m \u001b[0;34m\u001b[0m\u001b[0m\n",
            "\u001b[0;32m~/anaconda3/envs/ml/lib/python3.7/site-packages/pandas/core/frame.py\u001b[0m in \u001b[0;36m__getitem__\u001b[0;34m(self, key)\u001b[0m\n\u001b[1;32m   2916\u001b[0m         \u001b[0;31m# Do we have a (boolean) 1d indexer?\u001b[0m\u001b[0;34m\u001b[0m\u001b[0;34m\u001b[0m\u001b[0;34m\u001b[0m\u001b[0m\n\u001b[1;32m   2917\u001b[0m         \u001b[0;32mif\u001b[0m \u001b[0mcom\u001b[0m\u001b[0;34m.\u001b[0m\u001b[0mis_bool_indexer\u001b[0m\u001b[0;34m(\u001b[0m\u001b[0mkey\u001b[0m\u001b[0;34m)\u001b[0m\u001b[0;34m:\u001b[0m\u001b[0;34m\u001b[0m\u001b[0;34m\u001b[0m\u001b[0m\n\u001b[0;32m-\u003e 2918\u001b[0;31m             \u001b[0;32mreturn\u001b[0m \u001b[0mself\u001b[0m\u001b[0;34m.\u001b[0m\u001b[0m_getitem_bool_array\u001b[0m\u001b[0;34m(\u001b[0m\u001b[0mkey\u001b[0m\u001b[0;34m)\u001b[0m\u001b[0;34m\u001b[0m\u001b[0;34m\u001b[0m\u001b[0m\n\u001b[0m\u001b[1;32m   2919\u001b[0m \u001b[0;34m\u001b[0m\u001b[0m\n\u001b[1;32m   2920\u001b[0m         \u001b[0;31m# We are left with two options: a single key, and a collection of keys,\u001b[0m\u001b[0;34m\u001b[0m\u001b[0;34m\u001b[0m\u001b[0;34m\u001b[0m\u001b[0m\n",
            "\u001b[0;32m~/anaconda3/envs/ml/lib/python3.7/site-packages/pandas/core/frame.py\u001b[0m in \u001b[0;36m_getitem_bool_array\u001b[0;34m(self, key)\u001b[0m\n\u001b[1;32m   2965\u001b[0m         \u001b[0;31m# check_bool_indexer will throw exception if Series key cannot\u001b[0m\u001b[0;34m\u001b[0m\u001b[0;34m\u001b[0m\u001b[0;34m\u001b[0m\u001b[0m\n\u001b[1;32m   2966\u001b[0m         \u001b[0;31m# be reindexed to match DataFrame rows\u001b[0m\u001b[0;34m\u001b[0m\u001b[0;34m\u001b[0m\u001b[0;34m\u001b[0m\u001b[0m\n\u001b[0;32m-\u003e 2967\u001b[0;31m         \u001b[0mkey\u001b[0m \u001b[0;34m\u003d\u001b[0m \u001b[0mcheck_bool_indexer\u001b[0m\u001b[0;34m(\u001b[0m\u001b[0mself\u001b[0m\u001b[0;34m.\u001b[0m\u001b[0mindex\u001b[0m\u001b[0;34m,\u001b[0m \u001b[0mkey\u001b[0m\u001b[0;34m)\u001b[0m\u001b[0;34m\u001b[0m\u001b[0;34m\u001b[0m\u001b[0m\n\u001b[0m\u001b[1;32m   2968\u001b[0m         \u001b[0mindexer\u001b[0m \u001b[0;34m\u003d\u001b[0m \u001b[0mkey\u001b[0m\u001b[0;34m.\u001b[0m\u001b[0mnonzero\u001b[0m\u001b[0;34m(\u001b[0m\u001b[0;34m)\u001b[0m\u001b[0;34m[\u001b[0m\u001b[0;36m0\u001b[0m\u001b[0;34m]\u001b[0m\u001b[0;34m\u001b[0m\u001b[0;34m\u001b[0m\u001b[0m\n\u001b[1;32m   2969\u001b[0m         \u001b[0;32mreturn\u001b[0m \u001b[0mself\u001b[0m\u001b[0;34m.\u001b[0m\u001b[0m_take\u001b[0m\u001b[0;34m(\u001b[0m\u001b[0mindexer\u001b[0m\u001b[0;34m,\u001b[0m \u001b[0maxis\u001b[0m\u001b[0;34m\u003d\u001b[0m\u001b[0;36m0\u001b[0m\u001b[0;34m)\u001b[0m\u001b[0;34m\u001b[0m\u001b[0;34m\u001b[0m\u001b[0m\n",
            "\u001b[0;32m~/anaconda3/envs/ml/lib/python3.7/site-packages/pandas/core/indexing.py\u001b[0m in \u001b[0;36mcheck_bool_indexer\u001b[0;34m(ax, key)\u001b[0m\n\u001b[1;32m   2484\u001b[0m         \u001b[0mmask\u001b[0m \u001b[0;34m\u003d\u001b[0m \u001b[0misna\u001b[0m\u001b[0;34m(\u001b[0m\u001b[0mresult\u001b[0m\u001b[0;34m.\u001b[0m\u001b[0m_values\u001b[0m\u001b[0;34m)\u001b[0m\u001b[0;34m\u001b[0m\u001b[0;34m\u001b[0m\u001b[0m\n\u001b[1;32m   2485\u001b[0m         \u001b[0;32mif\u001b[0m \u001b[0mmask\u001b[0m\u001b[0;34m.\u001b[0m\u001b[0many\u001b[0m\u001b[0;34m(\u001b[0m\u001b[0;34m)\u001b[0m\u001b[0;34m:\u001b[0m\u001b[0;34m\u001b[0m\u001b[0;34m\u001b[0m\u001b[0m\n\u001b[0;32m-\u003e 2486\u001b[0;31m             raise IndexingError(\u0027Unalignable boolean Series provided as \u0027\n\u001b[0m\u001b[1;32m   2487\u001b[0m                                 \u001b[0;34m\u0027indexer (index of the boolean Series and of \u0027\u001b[0m\u001b[0;34m\u001b[0m\u001b[0;34m\u001b[0m\u001b[0m\n\u001b[1;32m   2488\u001b[0m                                 \u0027the indexed object do not match\u0027)\n",
            "\u001b[0;31mIndexingError\u001b[0m: Unalignable boolean Series provided as indexer (index of the boolean Series and of the indexed object do not match"
          ]
        }
      ],
      "source": "sub_sampling \u003d 5000\n\nif sub_sampling:\n    np.random.seed(55)  # Set seed\n\n    train_mol \u003d pd.Series(train[\u0027molecule_name\u0027].unique()).sample(n\u003dsub_sampling)\n    test_mol \u003d pd.Series(test[\u0027molecule_name\u0027].unique()).sample(n\u003dsub_sampling)\n\n    train \u003d train[train[\u0027molecule_name\u0027].isin(train_mol)]\n    test \u003d test[test[\u0027molecule_name\u0027].isin(test_mol)]\n    sub \u003d sub[sub[\u0027id\u0027].isin(test[\u0027id\u0027])]\n    contributions \u003d contributions[contributions[\u0027molecule_name\u0027].isin(train_mol)]\n\n    print(\u0027Train dataset shape is now rows: {} cols:{}\u0027.format(train.shape[0], train.shape[1]))\n    print(\u0027Test dataset shape is now rows: {} cols:{}\u0027.format(test.shape[0], test.shape[1]))\n    print(\u0027Sub dataset shape is now rows: {} cols:{}\u0027.format(sub.shape[0], sub.shape[1]))\n    print(\u0027Structures dataset shape is now rows: {} cols:{}\u0027.format(structures.shape[0], structures.shape[1]))\n    print(\u0027Scalar coupling contributions dataset shape is now rows: {} cols:{}\u0027.format(\n        contributions.shape[0],\n        contributions.shape[1]))"
    },
    {
      "cell_type": "code",
      "execution_count": null,
      "outputs": [],
      "source": "",
      "metadata": {
        "pycharm": {
          "metadata": false,
          "name": "#%%\n"
        }
      }
    },
    {
      "cell_type": "code",
      "execution_count": null,
      "metadata": {
        "pycharm": {}
      },
      "outputs": [],
      "source": ""
    }
  ],
  "metadata": {
    "kernelspec": {
      "display_name": "Python 3",
      "language": "python",
      "name": "python3"
    },
    "language_info": {
      "codemirror_mode": {
        "name": "ipython",
        "version": 3
      },
      "file_extension": ".py",
      "mimetype": "text/x-python",
      "name": "python",
      "nbconvert_exporter": "python",
      "pygments_lexer": "ipython3",
      "version": "3.7.3"
    }
  },
  "nbformat": 4,
  "nbformat_minor": 2
}