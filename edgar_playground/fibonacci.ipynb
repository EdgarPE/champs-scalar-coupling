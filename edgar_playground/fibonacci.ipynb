{
  "cells": [
    {
      "cell_type": "code",
      "execution_count": 1,
      "metadata": {
        "pycharm": {
          "is_executing": false
        }
      },
      "outputs": [],
      "source": [
        "def Fibonacci(n): \n",
        "    if n\u003c0: \n",
        "        print(\"Incorrect input\") \n",
        "    # First Fibonacci number is 0 \n",
        "    elif n\u003d\u003d1: \n",
        "        return 0\n",
        "    # Second Fibonacci number is 1 \n",
        "    elif n\u003d\u003d2: \n",
        "        return 1\n",
        "    else: \n",
        "        return Fibonacci(n-1)+Fibonacci(n-2) \n"
      ]
    },
    {
      "cell_type": "code",
      "execution_count": 2,
      "metadata": {
        "pycharm": {
          "is_executing": false
        }
      },
      "outputs": [
        {
          "name": "stdout",
          "text": [
            "13\n"
          ],
          "output_type": "stream"
        }
      ],
      "source": [
        "print(Fibonacci(8))"
      ]
    },
    {
      "cell_type": "code",
      "execution_count": 3,
      "metadata": {
        "pycharm": {}
      },
      "outputs": [
        {
          "name": "stdout",
          "output_type": "stream",
          "text": [
            "4181\n"
          ]
        }
      ],
      "source": [
        "print(Fibonacci(20))"
      ]
    },
    {
      "cell_type": "code",
      "execution_count": 3,
      "metadata": {
        "pycharm": {
          "is_executing": false
        }
      },
      "outputs": [
        {
          "name": "stdout",
          "text": [
            "514229\nCPU times: user 174 ms, sys: 10 µs, total: 174 ms\nWall time: 174 ms\n"
          ],
          "output_type": "stream"
        }
      ],
      "source": [
        "%%time\n",
        "print(Fibonacci(30))"
      ]
    },
    {
      "cell_type": "code",
      "execution_count": 5,
      "metadata": {
        "pycharm": {}
      },
      "outputs": [
        {
          "name": "stdout",
          "output_type": "stream",
          "text": [
            "1346269\n",
            "CPU times: user 460 ms, sys: 323 µs, total: 460 ms\n",
            "Wall time: 847 ms\n"
          ]
        }
      ],
      "source": [
        "%%time\n",
        "print(Fibonacci(32))"
      ]
    },
    {
      "cell_type": "code",
      "execution_count": 6,
      "metadata": {
        "pycharm": {}
      },
      "outputs": [
        {
          "name": "stdout",
          "output_type": "stream",
          "text": [
            "3524578\n",
            "CPU times: user 1.21 s, sys: 3.21 ms, total: 1.21 s\n",
            "Wall time: 1.94 s\n"
          ]
        }
      ],
      "source": [
        "%%time\n",
        "print(Fibonacci(34))"
      ]
    },
    {
      "cell_type": "code",
      "execution_count": 7,
      "metadata": {
        "pycharm": {}
      },
      "outputs": [
        {
          "name": "stdout",
          "output_type": "stream",
          "text": [
            "9227465\n",
            "CPU times: user 3.16 s, sys: 239 µs, total: 3.17 s\n",
            "Wall time: 4.01 s\n"
          ]
        }
      ],
      "source": [
        "%%time\n",
        "print(Fibonacci(36))"
      ]
    },
    {
      "cell_type": "code",
      "execution_count": 8,
      "metadata": {
        "pycharm": {}
      },
      "outputs": [
        {
          "name": "stdout",
          "output_type": "stream",
          "text": [
            "24157817\n",
            "CPU times: user 8.29 s, sys: 43 µs, total: 8.29 s\n",
            "Wall time: 9.95 s\n"
          ]
        }
      ],
      "source": [
        "%%time\n",
        "print(Fibonacci(38))"
      ]
    },
    {
      "cell_type": "code",
      "execution_count": 9,
      "metadata": {
        "pycharm": {}
      },
      "outputs": [
        {
          "name": "stdout",
          "output_type": "stream",
          "text": [
            "63245986\n",
            "CPU times: user 21.7 s, sys: 19.9 ms, total: 21.7 s\n",
            "Wall time: 29 s\n"
          ]
        }
      ],
      "source": [
        "%%time\n",
        "print(Fibonacci(40))"
      ]
    },
    {
      "cell_type": "code",
      "execution_count": 10,
      "metadata": {
        "pycharm": {}
      },
      "outputs": [
        {
          "name": "stdout",
          "output_type": "stream",
          "text": [
            "165580141\n",
            "CPU times: user 56.8 s, sys: 100 ms, total: 56.9 s\n",
            "Wall time: 1min 20s\n"
          ]
        }
      ],
      "source": [
        "%%time\n",
        "print(Fibonacci(42))"
      ]
    }
  ],
  "metadata": {
    "kernelspec": {
      "display_name": "Python 3",
      "language": "python",
      "name": "python3"
    },
    "language_info": {
      "codemirror_mode": {
        "name": "ipython",
        "version": 3
      },
      "file_extension": ".py",
      "mimetype": "text/x-python",
      "name": "python",
      "nbconvert_exporter": "python",
      "pygments_lexer": "ipython3",
      "version": "3.7.3"
    }
  },
  "nbformat": 4,
  "nbformat_minor": 2
}