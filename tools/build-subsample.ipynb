{
 "cells": [
  {
   "cell_type": "code",
   "execution_count": null,
   "metadata": {
    "pycharm": {}
   },
   "outputs": [],
   "source": [
    "import numpy as np # linear algebra\n",
    "import pandas as pd # data processing, CSV file I/O (e.g. pd.read_csv)\n",
    "import os"
   ]
  },
  {
   "cell_type": "code",
   "execution_count": null,
   "metadata": {
    "pycharm": {}
   },
   "outputs": [],
   "source": [
    "train = pd.read_csv('../input/train.csv')\n",
    "test = pd.read_csv('../input/test.csv')\n",
    "submission = pd.read_csv('../input/sample_submission.csv')\n",
    "structures = pd.read_csv('../input/structures.csv')\n",
    "contributions = pd.read_csv('../input/scalar_coupling_contributions.csv')\n",
    "potential_energy = pd.read_csv('../input/potential_energy.csv')\n",
    "mulliken_charges = pd.read_csv('../input/mulliken_charges.csv')\n",
    "dipole_moments = pd.read_csv('../input/dipole_moments.csv')\n",
    "magnetic_st = pd.read_csv('../input/magnetic_shielding_tensors.csv')\n",
    "\n",
    "yukawa = pd.read_csv('../input/yukawa/structures_yukawa.csv')"
   ]
  },
  {
   "cell_type": "code",
   "execution_count": null,
   "metadata": {
    "pycharm": {}
   },
   "outputs": [],
   "source": [
    "sub_sampling = 20000\n",
    "np.random.seed(55) # Set seed\n",
    "\n",
    "train_mol = pd.Series(train['molecule_name'].unique()).sample(n=sub_sampling)\n",
    "test_mol = pd.Series(test['molecule_name'].unique()).sample(n=sub_sampling)\n",
    "\n",
    "train = train[train['molecule_name'].isin(train_mol)]\n",
    "test = test[test['molecule_name'].isin(test_mol)]\n",
    "submission = submission[submission['id'].isin(test['id'])]\n",
    "structures_filter = structures['molecule_name'].isin(list(train_mol) + list(test_mol))\n",
    "structures = structures[structures_filter]\n",
    "contributions = contributions[contributions['molecule_name'].isin(train_mol)]\n",
    "potential_energy = potential_energy[potential_energy['molecule_name'].isin(train_mol)]\n",
    "mulliken_charges = mulliken_charges[mulliken_charges['molecule_name'].isin(train_mol)]\n",
    "dipole_moments = dipole_moments[dipole_moments['molecule_name'].isin(train_mol)]\n",
    "magnetic_st = magnetic_st[magnetic_st['molecule_name'].isin(train_mol)]\n",
    "\n",
    "yukawa = yukawa[structures_filter] # same filtering as sturcures"
   ]
  },
  {
   "cell_type": "code",
   "execution_count": null,
   "metadata": {
    "pycharm": {
     "metadata": false,
     "name": "#%%\n"
    }
   },
   "outputs": [],
   "source": [
    "target_dir = '../work/subsample_' + str(sub_sampling)\n",
    "if not os.path.exists(target_dir):\n",
    "    os.mkdir(target_dir)\n",
    "    os.mkdir(target_dir + '/yukawa')\n",
    "\n",
    "train.to_csv(target_dir + '/train.csv', index=False)\n",
    "test.to_csv(target_dir + '/test.csv', index=False)\n",
    "submission.to_csv(target_dir + '/sample_submission.csv', index=False)\n",
    "structures.to_csv(target_dir + '/structures.csv', index=False)\n",
    "contributions.to_csv(target_dir + '/scalar_coupling_contributions.csv', index=False)\n",
    "potential_energy.to_csv(target_dir + '/potential_energy.csv', index=False)\n",
    "mulliken_charges.to_csv(target_dir + '/mulliken_charges.csv', index=False)\n",
    "dipole_moments.to_csv(target_dir + '/dipole_moments.csv', index=False)\n",
    "magnetic_st.to_csv(target_dir + '/magnetic_shielding_tensors.csv', index=False)\n",
    "\n",
    "yukawa.to_csv(target_dir + '/yukawa/structures_yukawa.csv', index=False)"
   ]
  }
 ],
 "metadata": {
  "kernelspec": {
   "display_name": "Python 3",
   "language": "python",
   "name": "python3"
  },
  "language_info": {
   "codemirror_mode": {
    "name": "ipython",
    "version": 3
   },
   "file_extension": ".py",
   "mimetype": "text/x-python",
   "name": "python",
   "nbconvert_exporter": "python",
   "pygments_lexer": "ipython3",
   "version": "3.7.3"
  }
 },
 "nbformat": 4,
 "nbformat_minor": 2
}
