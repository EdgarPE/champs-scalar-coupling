{
 "cells": [
  {
   "cell_type": "code",
   "execution_count": 1,
   "metadata": {
    "pycharm": {}
   },
   "outputs": [],
   "source": [
    "import numpy as np # linear algebra\n",
    "import pandas as pd # data processing, CSV file I/O (e.g. pd.read_csv)\n",
    "import os"
   ]
  },
  {
   "cell_type": "code",
   "execution_count": 2,
   "metadata": {
    "pycharm": {}
   },
   "outputs": [],
   "source": [
    "train = pd.read_csv('../input/train.csv')\n",
    "test = pd.read_csv('../input/test.csv')\n",
    "submission = pd.read_csv('../input/sample_submission.csv')\n",
    "structures = pd.read_csv('../input/structures.csv')\n",
    "contributions = pd.read_csv('../input/scalar_coupling_contributions.csv')\n",
    "potential_energy = pd.read_csv('../input/potential_energy.csv')\n",
    "mulliken_charges = pd.read_csv('../input/mulliken_charges.csv')"
   ]
  },
  {
   "cell_type": "code",
   "execution_count": 3,
   "metadata": {
    "pycharm": {}
   },
   "outputs": [],
   "source": [
    "sub_sampling = 5000\n",
    "np.random.seed(55) # Set seed\n",
    "\n",
    "train_mol = pd.Series(train['molecule_name'].unique()).sample(n=sub_sampling)\n",
    "test_mol = pd.Series(test['molecule_name'].unique()).sample(n=sub_sampling)\n",
    "\n",
    "train = train[train['molecule_name'].isin(train_mol)]\n",
    "test = test[test['molecule_name'].isin(test_mol)]\n",
    "submission = submission[submission['id'].isin(test['id'])]\n",
    "structures = structures[structures['molecule_name'].isin(list(train_mol) + list(test_mol))]\n",
    "contributions = contributions[contributions['molecule_name'].isin(train_mol)]\n",
    "potential_energy = potential_energy[potential_energy['molecule_name'].isin(train_mol)]\n",
    "mulliken_charges = mulliken_charges[mulliken_charges['molecule_name'].isin(train_mol)]"
   ]
  },
  {
   "cell_type": "code",
   "execution_count": 4,
   "metadata": {
    "pycharm": {
     "metadata": false,
     "name": "#%%\n"
    }
   },
   "outputs": [],
   "source": [
    "target_dir = '../work/subsample_' + str(sub_sampling)\n",
    "if not os.path.exists(target_dir):\n",
    "    os.mkdir(target_dir)\n",
    "train.to_csv(target_dir + '/train.csv', index=False)\n",
    "test.to_csv(target_dir + '/test.csv', index=False)\n",
    "submission.to_csv(target_dir + '/sample_submission.csv', index=False)\n",
    "structures.to_csv(target_dir + '/structures.csv', index=False)\n",
    "contributions.to_csv(target_dir + '/scalar_coupling_contributions.csv', index=False)\n",
    "potential_energy.to_csv(target_dir + '/potential_energy.csv', index=False)\n",
    "mulliken_charges.to_csv(target_dir + '/mulliken_charges.csv', index=False)"
   ]
  }
 ],
 "metadata": {
  "kernelspec": {
   "display_name": "Python 3",
   "language": "python",
   "name": "python3"
  },
  "language_info": {
   "codemirror_mode": {
    "name": "ipython",
    "version": 3
   },
   "file_extension": ".py",
   "mimetype": "text/x-python",
   "name": "python",
   "nbconvert_exporter": "python",
   "pygments_lexer": "ipython3",
   "version": "3.7.3"
  }
 },
 "nbformat": 4,
 "nbformat_minor": 2
}
